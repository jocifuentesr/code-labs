{
 "cells": [
  {
   "cell_type": "markdown",
   "metadata": {},
   "source": [
    "## Cálculo de la correlación"
   ]
  },
  {
   "cell_type": "code",
   "execution_count": 8,
   "metadata": {},
   "outputs": [],
   "source": [
    "# carga de datos\n",
    "import pandas as pd\n",
    "import seaborn as sns\n",
    "df = pd.read_csv('empleados.csv', delimiter=';')"
   ]
  },
  {
   "cell_type": "code",
   "execution_count": 5,
   "metadata": {},
   "outputs": [
    {
     "name": "stdout",
     "output_type": "stream",
     "text": [
      "       Nombre  Apellido       Sexo   Estado_Civil  Edad  Experiencia  Salario  \\\n",
      "0   Alexandro       NaN  Masculino     Soltero(a)  22.0          3.0   2423.0   \n",
      "1      Carlos       NaN  Masculino      Casado(a)  38.0         10.0   3132.0   \n",
      "2      Felipa       NaN   Femenino     Soltero(a)  26.0          5.0   2639.0   \n",
      "3      Daniel       NaN  Masculino      Casado(a)  35.0         10.0   3122.0   \n",
      "4        John       NaN  Masculino      Casado(a)  35.0         13.0   3431.0   \n",
      "5      Edward       NaN  Masculino     Soltero(a)   NaN          NaN   4500.0   \n",
      "6     Ruperta       NaN   Femenino      Casado(a)  54.0         18.0   3962.0   \n",
      "7       Amaya       NaN   Femenino  Divorciado(a)  22.0          3.0   2450.0   \n",
      "8   Francisca       NaN   Femenino     Soltero(a)  27.0          4.0   2564.0   \n",
      "9      Selena       NaN   Femenino      Casado(a)  24.0          6.0   2709.0   \n",
      "10       Febe       NaN   Femenino      Casado(a)  44.0         22.0   4359.0   \n",
      "11     Ximena       NaN   Femenino     Soltero(a)  58.0         24.0   4532.0   \n",
      "12      David       NaN  Masculino  Divorciado(a)  20.0          1.0   1977.0   \n",
      "13        Max       NaN  Masculino  Divorciado(a)  39.0          8.0   2953.0   \n",
      "14     Selena       NaN   Femenino      Casado(a)  24.0          6.0   2709.0   \n",
      "15        NaN       NaN   Femenino            NaN  44.0         22.0      NaN   \n",
      "16      Paula       NaN   Femenino  Divorciado(a)  55.0         12.0   3306.0   \n",
      "17        Tim       NaN  Masculino  Divorciado(a)  22.0          4.0   2518.0   \n",
      "18     Andrew       NaN  Masculino  Divorciado(a)   NaN         10.0   3194.0   \n",
      "19     Gloria       NaN   Femenino      Casado(a)  31.0         11.0   3267.0   \n",
      "\n",
      "   Gerencia          Departamento  \n",
      "0        No            Publicidad  \n",
      "1        Sí                   NaN  \n",
      "2        No             Comercial  \n",
      "3        No             Comercial  \n",
      "4        Sí  Servicios al cliente  \n",
      "5        No                 Legal  \n",
      "6        No              Producto  \n",
      "7       NaN             Comercial  \n",
      "8        No                    IT  \n",
      "9        Sí          Contabilidad  \n",
      "10       No                   NaN  \n",
      "11       No                 Legal  \n",
      "12       No      Recursos Humanos  \n",
      "13       No                Ventas  \n",
      "14       Sí          Contabilidad  \n",
      "15      NaN                   NaN  \n",
      "16       No              Producto  \n",
      "17       No      Recursos Humanos  \n",
      "18       No              Producto  \n",
      "19       No  Servicios al cliente  \n"
     ]
    }
   ],
   "source": [
    "print(df.head(20))"
   ]
  },
  {
   "cell_type": "code",
   "execution_count": 7,
   "metadata": {},
   "outputs": [
    {
     "data": {
      "text/plain": [
       "0.9945639283656781"
      ]
     },
     "execution_count": 7,
     "metadata": {},
     "output_type": "execute_result"
    }
   ],
   "source": [
    "# calculo de la correlación de Pearson experiencia y salario\n",
    "df['Experiencia'].corr(df['Salario'])"
   ]
  },
  {
   "cell_type": "code",
   "execution_count": 13,
   "metadata": {},
   "outputs": [
    {
     "data": {
      "text/plain": [
       "<Axes: >"
      ]
     },
     "execution_count": 13,
     "metadata": {},
     "output_type": "execute_result"
    },
    {
     "data": {
      "image/png": "[encoded data removed]",
      "text/plain": [
       "<Figure size 640x480 with 2 Axes>"
      ]
     },
     "metadata": {},
     "output_type": "display_data"
    }
   ],
   "source": [
    "# mapa de calor de la correlación de Pearson\n",
    "sns.heatmap(df.corr(numeric_only=True), vmin=-1, vmax=1, annot=True)"
   ]
  },
  {
   "cell_type": "markdown",
   "metadata": {},
   "source": [
    "## Cálculo de medidas de tendencia central y dispersión"
   ]
  },
  {
   "cell_type": "code",
   "execution_count": 14,
   "metadata": {},
   "outputs": [
    {
     "name": "stdout",
     "output_type": "stream",
     "text": [
      "<class 'pandas.core.frame.DataFrame'>\n",
      "RangeIndex: 62 entries, 0 to 61\n",
      "Data columns (total 2 columns):\n",
      " #   Column       Non-Null Count  Dtype  \n",
      "---  ------       --------------  -----  \n",
      " 0   Año          62 non-null     int64  \n",
      " 1   temperatura  62 non-null     float64\n",
      "dtypes: float64(1), int64(1)\n",
      "memory usage: 1.1 KB\n",
      "None\n"
     ]
    }
   ],
   "source": [
    "import pandas as pd\n",
    "df = pd.read_csv('temperaturas.csv', delimiter=';')\n",
    "print(df.info())"
   ]
  },
  {
   "cell_type": "code",
   "execution_count": 29,
   "metadata": {},
   "outputs": [
    {
     "name": "stdout",
     "output_type": "stream",
     "text": [
      "Temperatura mínima: 70.9\n",
      "Temperatura máxima: 75.3\n",
      "Temperatura media: 72.62\n",
      "Temperatura mediana: 72.45\n",
      "Desviación Típica: 1.06\n",
      "Varianza: 1.12\n",
      "Rango: 4.4\n",
      "Temperatura moda: 71.3\n"
     ]
    }
   ],
   "source": [
    "# cálculo de las medidas\n",
    "print(f\"Temperatura mínima: {round(df['temperatura'].min(), 2)}\")\n",
    "print(f\"Temperatura máxima: {round(df['temperatura'].max(), 2)}\")\n",
    "print(f\"Temperatura media: {round(df['temperatura'].mean(), 2)}\")\n",
    "print(f\"Temperatura mediana: {round(df['temperatura'].median(), 2)}\")\n",
    "print(f\"Desviación Típica: {round(df['temperatura'].std(), 2)}\")\n",
    "print(f\"Varianza: {round(df['temperatura'].var(), 2)}\")\n",
    "print(f\"Rango: {round(df['temperatura'].max() - df['temperatura'].min(), 2)}\")\n",
    "# moda de la temperatura\n",
    "print(f\"Temperatura moda: {df['temperatura'].mode()[0]}\")\n"
   ]
  },
  {
   "cell_type": "code",
   "execution_count": 31,
   "metadata": {},
   "outputs": [
    {
     "name": "stdout",
     "output_type": "stream",
     "text": [
      "temperatura\n",
      "73.3    4\n",
      "72.3    4\n",
      "71.5    4\n",
      "71.3    4\n",
      "71.9    4\n",
      "Name: count, dtype: int64\n"
     ]
    }
   ],
   "source": [
    "modas = df['temperatura'].mode()\n",
    "frecuencias = df['temperatura'].value_counts()\n",
    "\n",
    "frecuencia_modas = frecuencias[frecuencias.index.isin(modas)]\n",
    "print(frecuencia_modas)\n"
   ]
  },
  {
   "cell_type": "markdown",
   "metadata": {},
   "source": [
    "## Normalización de los datos"
   ]
  },
  {
   "cell_type": "code",
   "execution_count": 34,
   "metadata": {},
   "outputs": [
    {
     "name": "stdout",
     "output_type": "stream",
     "text": [
      "    Altura    Peso\n",
      "0     1.68   63.11\n",
      "1     1.70   64.47\n",
      "2     1.73   66.28\n",
      "3     1.75   68.10\n",
      "4     1.78   69.92\n",
      "5     1.80   72.19\n",
      "6     1.83   74.46\n",
      "7     1.57  105.18\n",
      "8     1.19  114.41\n",
      "9     1.74   82.30\n",
      "10    1.82  117.53\n",
      "11    1.32  104.75\n",
      "12    1.40   58.88\n",
      "13    1.14   66.02\n",
      "14    1.25  106.64\n",
      "15    1.71  110.20\n",
      "16    1.39   82.25\n",
      "17    1.55  100.12\n",
      "18    1.55   92.07\n",
      "19    1.93  129.42\n"
     ]
    }
   ],
   "source": [
    "# cargamos los datos \n",
    "import pandas as pd\n",
    "from sklearn.preprocessing import MinMaxScaler\n",
    "\n",
    "df = pd.read_csv('datos.csv', delimiter=';')\n",
    "print(df.head(20))"
   ]
  },
  {
   "cell_type": "code",
   "execution_count": 37,
   "metadata": {},
   "outputs": [],
   "source": [
    "# crea el objeto escalador\n",
    "scaler = MinMaxScaler()"
   ]
  },
  {
   "cell_type": "code",
   "execution_count": 43,
   "metadata": {},
   "outputs": [],
   "source": [
    "scaled_df = scaler.fit_transform(df)\n",
    "scaled_df = pd.DataFrame(scaled_df, columns=['Altura', 'Peso'])\n"
   ]
  },
  {
   "cell_type": "code",
   "execution_count": 44,
   "metadata": {},
   "outputs": [
    {
     "name": "stdout",
     "output_type": "stream",
     "text": [
      "      Altura      Peso\n",
      "0   0.655172  0.141173\n",
      "1   0.678161  0.158788\n",
      "2   0.712644  0.182230\n",
      "3   0.735632  0.205802\n",
      "4   0.770115  0.229374\n",
      "5   0.793103  0.258775\n",
      "6   0.827586  0.288175\n",
      "7   0.528736  0.686051\n",
      "8   0.091954  0.805595\n",
      "9   0.724138  0.389716\n",
      "10  0.816092  0.846004\n",
      "11  0.241379  0.680482\n",
      "12  0.333333  0.086388\n",
      "13  0.034483  0.178863\n",
      "14  0.160920  0.704960\n",
      "15  0.689655  0.751069\n",
      "16  0.321839  0.389069\n",
      "17  0.505747  0.620515\n",
      "18  0.505747  0.516254\n",
      "19  0.942529  1.000000\n",
      "20  0.310345  0.238829\n",
      "21  0.344828  0.798342\n",
      "22  1.000000  0.105815\n",
      "23  0.689655  0.365108\n",
      "24  0.333333  0.940422\n",
      "25  0.528736  0.533739\n",
      "26  0.862069  0.812848\n",
      "27  0.770115  0.064888\n",
      "28  0.241379  0.830333\n",
      "29  0.678161  0.036265\n",
      "30  1.000000  0.253465\n",
      "31  0.586207  0.576350\n",
      "32  0.195402  0.000648\n",
      "33  0.793103  0.853128\n",
      "34  0.919540  0.064370\n",
      "35  0.689655  0.889911\n",
      "36  0.965517  0.134827\n",
      "37  0.000000  0.091180\n",
      "38  0.517241  0.248802\n",
      "39  0.747126  0.285326\n",
      "40  0.471264  0.528040\n",
      "41  0.413793  0.000000\n",
      "42  0.448276  0.011786\n",
      "43  0.471264  0.029400\n",
      "44  0.505747  0.047015\n",
      "45  0.528736  0.064629\n",
      "46  0.563218  0.082373\n",
      "47  0.597701  0.099987\n",
      "48  0.620690  0.117601\n"
     ]
    }
   ],
   "source": [
    "print (scaled_df)"
   ]
  }
 ],
 "metadata": {
  "kernelspec": {
   "display_name": "taller-tic",
   "language": "python",
   "name": "python3"
  },
  "language_info": {
   "codemirror_mode": {
    "name": "ipython",
    "version": 3
   },
   "file_extension": ".py",
   "mimetype": "text/x-python",
   "name": "python",
   "nbconvert_exporter": "python",
   "pygments_lexer": "ipython3",
   "version": "3.11.5"
  }
 },
 "nbformat": 4,
 "nbformat_minor": 2
}
