{
 "cells": [
  {
   "cell_type": "markdown",
   "metadata": {},
   "source": [
    "## Limpieza de datos\n",
    "En esta primera parte lo que vamos a hacer es cargar los datos y determinar el número de valores faltantes de cada columna"
   ]
  },
  {
   "cell_type": "markdown",
   "metadata": {},
   "source": [
    "### 1.1 ¿Cuántos datos faltantes tenemos?"
   ]
  },
  {
   "cell_type": "code",
   "execution_count": 33,
   "metadata": {},
   "outputs": [
    {
     "name": "stdout",
     "output_type": "stream",
     "text": [
      "       Nombre  Apellido       Sexo   Estado_Civil  Edad  Experiencia  Salario  \\\n",
      "0   Alexandro       NaN  Masculino     Soltero(a)  22.0          3.0   2423.0   \n",
      "1      Carlos       NaN  Masculino      Casado(a)  38.0         10.0   3132.0   \n",
      "2      Felipa       NaN   Femenino     Soltero(a)  26.0          5.0   2639.0   \n",
      "3      Daniel       NaN  Masculino      Casado(a)  35.0         10.0   3122.0   \n",
      "4        John       NaN  Masculino      Casado(a)  35.0         13.0   3431.0   \n",
      "5      Edward       NaN  Masculino     Soltero(a)   NaN          NaN   4500.0   \n",
      "6     Ruperta       NaN   Femenino      Casado(a)  54.0         18.0   3962.0   \n",
      "7       Amaya       NaN   Femenino  Divorciado(a)  22.0          3.0   2450.0   \n",
      "8   Francisca       NaN   Femenino     Soltero(a)  27.0          4.0   2564.0   \n",
      "9      Selena       NaN   Femenino      Casado(a)  24.0          6.0   2709.0   \n",
      "10       Febe       NaN   Femenino      Casado(a)  44.0         22.0   4359.0   \n",
      "11     Ximena       NaN   Femenino     Soltero(a)  58.0         24.0   4532.0   \n",
      "12      David       NaN  Masculino  Divorciado(a)  20.0          1.0   1977.0   \n",
      "13        Max       NaN  Masculino  Divorciado(a)  39.0          8.0   2953.0   \n",
      "14     Selena       NaN   Femenino      Casado(a)  24.0          6.0   2709.0   \n",
      "15        NaN       NaN   Femenino            NaN  44.0         22.0      NaN   \n",
      "16      Paula       NaN   Femenino  Divorciado(a)  55.0         12.0   3306.0   \n",
      "17        Tim       NaN  Masculino  Divorciado(a)  22.0          4.0   2518.0   \n",
      "18     Andrew       NaN  Masculino  Divorciado(a)   NaN         10.0   3194.0   \n",
      "19     Gloria       NaN   Femenino      Casado(a)  31.0         11.0   3267.0   \n",
      "\n",
      "   Gerencia          Departamento  \n",
      "0        No            Publicidad  \n",
      "1        Sí                   NaN  \n",
      "2        No             Comercial  \n",
      "3        No             Comercial  \n",
      "4        Sí  Servicios al cliente  \n",
      "5        No                 Legal  \n",
      "6        No              Producto  \n",
      "7       NaN             Comercial  \n",
      "8        No                    IT  \n",
      "9        Sí          Contabilidad  \n",
      "10       No                   NaN  \n",
      "11       No                 Legal  \n",
      "12       No      Recursos Humanos  \n",
      "13       No                Ventas  \n",
      "14       Sí          Contabilidad  \n",
      "15      NaN                   NaN  \n",
      "16       No              Producto  \n",
      "17       No      Recursos Humanos  \n",
      "18       No              Producto  \n",
      "19       No  Servicios al cliente  \n"
     ]
    }
   ],
   "source": [
    "import pandas as pd\n",
    "df = pd.read_csv('empleados.csv', delimiter=';')\n",
    "print(df.head(20))"
   ]
  },
  {
   "cell_type": "code",
   "execution_count": 34,
   "metadata": {},
   "outputs": [
    {
     "name": "stdout",
     "output_type": "stream",
     "text": [
      "(251, 9)\n"
     ]
    }
   ],
   "source": [
    "print(df.shape)"
   ]
  },
  {
   "cell_type": "code",
   "execution_count": 35,
   "metadata": {},
   "outputs": [
    {
     "name": "stdout",
     "output_type": "stream",
     "text": [
      "Nombre            6\n",
      "Apellido        251\n",
      "Sexo             37\n",
      "Estado_Civil      4\n",
      "Edad             61\n",
      "Experiencia       4\n",
      "Salario           6\n",
      "Gerencia         21\n",
      "Departamento     12\n",
      "dtype: int64\n"
     ]
    }
   ],
   "source": [
    "# determinamos el total de valores nulos del dataset\n",
    "print(df.isnull().sum())"
   ]
  },
  {
   "cell_type": "code",
   "execution_count": 36,
   "metadata": {},
   "outputs": [
    {
     "name": "stdout",
     "output_type": "stream",
     "text": [
      "Nombre          245\n",
      "Apellido          0\n",
      "Sexo            214\n",
      "Estado_Civil    247\n",
      "Edad            190\n",
      "Experiencia     247\n",
      "Salario         245\n",
      "Gerencia        230\n",
      "Departamento    239\n",
      "dtype: int64\n"
     ]
    }
   ],
   "source": [
    "# determinamos el total de valores no nulos del dataset\n",
    "print(df.notnull().sum())"
   ]
  },
  {
   "cell_type": "markdown",
   "metadata": {},
   "source": [
    "### 1.2 Eliminar la columna con datos faltantes\n",
    "Como se puede observar en el conjunto de datos la columna con los apellidos no tiene datos, por tanto, se debe eliminar. Esto es un caso atípico y la decisión de eliminar una columna o no dependerá del caso de que estemos tratando."
   ]
  },
  {
   "cell_type": "code",
   "execution_count": 37,
   "metadata": {},
   "outputs": [],
   "source": [
    "# eliminamos la columna Apellido\n",
    "df.drop('Apellido', axis=1, inplace=True)"
   ]
  },
  {
   "cell_type": "code",
   "execution_count": 38,
   "metadata": {},
   "outputs": [
    {
     "name": "stdout",
     "output_type": "stream",
     "text": [
      "<class 'pandas.core.frame.DataFrame'>\n",
      "RangeIndex: 251 entries, 0 to 250\n",
      "Data columns (total 8 columns):\n",
      " #   Column        Non-Null Count  Dtype  \n",
      "---  ------        --------------  -----  \n",
      " 0   Nombre        245 non-null    object \n",
      " 1   Sexo          214 non-null    object \n",
      " 2   Estado_Civil  247 non-null    object \n",
      " 3   Edad          190 non-null    float64\n",
      " 4   Experiencia   247 non-null    float64\n",
      " 5   Salario       245 non-null    float64\n",
      " 6   Gerencia      230 non-null    object \n",
      " 7   Departamento  239 non-null    object \n",
      "dtypes: float64(3), object(5)\n",
      "memory usage: 15.8+ KB\n",
      "None\n"
     ]
    }
   ],
   "source": [
    "# mostramos el dataset sin la columna Apellido\n",
    "print(df.info())"
   ]
  },
  {
   "cell_type": "markdown",
   "metadata": {},
   "source": [
    "### 1.3 Eliminar las filas con datos faltantes\n",
    "En algunos métodos de aprendizaje automático no se pueden tener datos faltantes. Para esto vamos a analizar el conjunto de datos y procederemos a eliminar las filas que tengan datos faltantes."
   ]
  },
  {
   "cell_type": "code",
   "execution_count": 39,
   "metadata": {},
   "outputs": [
    {
     "name": "stdout",
     "output_type": "stream",
     "text": [
      "     Nombre       Sexo   Estado_Civil  Edad  Experiencia  Salario Gerencia  \\\n",
      "1    Carlos  Masculino      Casado(a)  38.0         10.0   3132.0       Sí   \n",
      "5    Edward  Masculino     Soltero(a)   NaN          NaN   4500.0       No   \n",
      "7     Amaya   Femenino  Divorciado(a)  22.0          3.0   2450.0      NaN   \n",
      "10     Febe   Femenino      Casado(a)  44.0         22.0   4359.0       No   \n",
      "15      NaN   Femenino            NaN  44.0         22.0      NaN      NaN   \n",
      "..      ...        ...            ...   ...          ...      ...      ...   \n",
      "241  Robert        NaN     Soltero(a)  33.0         11.0   3267.0       No   \n",
      "242   Kevin        NaN  Divorciado(a)   NaN         20.0   4166.0       No   \n",
      "243   Amaro  Masculino      Casado(a)   NaN         24.0   4510.0       No   \n",
      "248    Eric        NaN      Casado(a)  25.0          7.0   2880.0       Sí   \n",
      "249    Marc        NaN      Casado(a)  24.0          2.0   2172.0       No   \n",
      "\n",
      "         Departamento  \n",
      "1                 NaN  \n",
      "5               Legal  \n",
      "7           Comercial  \n",
      "10                NaN  \n",
      "15                NaN  \n",
      "..                ...  \n",
      "241  Recursos Humanos  \n",
      "242          Finanzas  \n",
      "243         Comercial  \n",
      "248  Recursos Humanos  \n",
      "249          Producto  \n",
      "\n",
      "[106 rows x 8 columns]\n"
     ]
    }
   ],
   "source": [
    "# nos indica cuantas filas tienen datos faltantes\n",
    "print(df[df.isnull().any(axis=1)])"
   ]
  },
  {
   "cell_type": "code",
   "execution_count": 40,
   "metadata": {},
   "outputs": [],
   "source": [
    "# para eliminar todas las filas que tengan al menos un dato faltante ejecutamos\n",
    "df = df.dropna(axis=0)"
   ]
  },
  {
   "cell_type": "code",
   "execution_count": 41,
   "metadata": {},
   "outputs": [
    {
     "name": "stdout",
     "output_type": "stream",
     "text": [
      "(145, 8)\n"
     ]
    }
   ],
   "source": [
    "# mostramos el dataset actualizado\n",
    "print(df.shape)"
   ]
  },
  {
   "cell_type": "code",
   "execution_count": 42,
   "metadata": {},
   "outputs": [],
   "source": [
    "# para eliminar todas las columnas que tengan al menos 5 datos válidos ejecutamos\n",
    "# df_actualizado = df.dropna(axis=1, thresh=5)"
   ]
  },
  {
   "cell_type": "code",
   "execution_count": 43,
   "metadata": {},
   "outputs": [],
   "source": [
    "# mostramos el dataset actualizado\n",
    "#print(df_actualizado)"
   ]
  },
  {
   "cell_type": "markdown",
   "metadata": {},
   "source": [
    "### 1.4 Verificar cuantos registros existen"
   ]
  },
  {
   "cell_type": "code",
   "execution_count": 44,
   "metadata": {},
   "outputs": [
    {
     "name": "stdout",
     "output_type": "stream",
     "text": [
      "<class 'pandas.core.frame.DataFrame'>\n",
      "Index: 145 entries, 0 to 250\n",
      "Data columns (total 8 columns):\n",
      " #   Column        Non-Null Count  Dtype  \n",
      "---  ------        --------------  -----  \n",
      " 0   Nombre        145 non-null    object \n",
      " 1   Sexo          145 non-null    object \n",
      " 2   Estado_Civil  145 non-null    object \n",
      " 3   Edad          145 non-null    float64\n",
      " 4   Experiencia   145 non-null    float64\n",
      " 5   Salario       145 non-null    float64\n",
      " 6   Gerencia      145 non-null    object \n",
      " 7   Departamento  145 non-null    object \n",
      "dtypes: float64(3), object(5)\n",
      "memory usage: 10.2+ KB\n",
      "None\n"
     ]
    }
   ],
   "source": [
    "print(df.info())"
   ]
  },
  {
   "cell_type": "code",
   "execution_count": 45,
   "metadata": {},
   "outputs": [
    {
     "name": "stdout",
     "output_type": "stream",
     "text": [
      "    Nombre       Sexo Estado_Civil  Edad  Experiencia  Salario Gerencia  \\\n",
      "14  Selena   Femenino    Casado(a)  24.0          6.0   2709.0       Sí   \n",
      "65   Lucio  Masculino   Soltero(a)  54.0         12.0   3317.0       No   \n",
      "\n",
      "        Departamento  \n",
      "14      Contabilidad  \n",
      "65  Recursos Humanos  \n"
     ]
    }
   ],
   "source": [
    "# muestra valores duplicados\n",
    "duplicados = df.duplicated()\n",
    "print(df[duplicados])"
   ]
  },
  {
   "cell_type": "markdown",
   "metadata": {},
   "source": [
    "### 1.5 Eliminar registros duplicados"
   ]
  },
  {
   "cell_type": "code",
   "execution_count": 46,
   "metadata": {},
   "outputs": [
    {
     "data": {
      "text/plain": [
       "(143, 8)"
      ]
     },
     "execution_count": 46,
     "metadata": {},
     "output_type": "execute_result"
    }
   ],
   "source": [
    "# borra valores duplicados\n",
    "df = df.drop_duplicates()\n",
    "df.shape # se eliminaron 2 filas duplicadas"
   ]
  },
  {
   "cell_type": "markdown",
   "metadata": {},
   "source": [
    "### 1.6 Rellenar los datos faltantes con un valor de imputación"
   ]
  },
  {
   "cell_type": "code",
   "execution_count": 47,
   "metadata": {},
   "outputs": [
    {
     "name": "stdout",
     "output_type": "stream",
     "text": [
      "Nombre            6\n",
      "Apellido        251\n",
      "Sexo             37\n",
      "Estado_Civil      4\n",
      "Edad             61\n",
      "Experiencia       4\n",
      "Salario           6\n",
      "Gerencia         21\n",
      "Departamento     12\n",
      "dtype: int64\n"
     ]
    }
   ],
   "source": [
    "# cargamos nuevamente el dataset empleados con la columna Apellido\n",
    "df = pd.read_csv('empleados.csv', delimiter=';')\n",
    "print(df.isnull().sum())"
   ]
  },
  {
   "cell_type": "code",
   "execution_count": 48,
   "metadata": {},
   "outputs": [],
   "source": [
    "# eliminamos la columna Apellido\n",
    "df.drop('Apellido', axis=1, inplace=True)"
   ]
  },
  {
   "cell_type": "code",
   "execution_count": 49,
   "metadata": {},
   "outputs": [],
   "source": [
    "# eliminamos todas las columnas que tengan al menos 5 datos válidos ejecutamos\n",
    "df = df.dropna(axis=1, thresh=5)"
   ]
  },
  {
   "cell_type": "code",
   "execution_count": 50,
   "metadata": {},
   "outputs": [
    {
     "name": "stdout",
     "output_type": "stream",
     "text": [
      "Nombre           6\n",
      "Sexo            37\n",
      "Estado_Civil     4\n",
      "Edad            61\n",
      "Experiencia      4\n",
      "Salario          6\n",
      "Gerencia        21\n",
      "Departamento    12\n",
      "dtype: int64\n"
     ]
    }
   ],
   "source": [
    "print(df.isnull().sum())"
   ]
  },
  {
   "cell_type": "code",
   "execution_count": 51,
   "metadata": {},
   "outputs": [
    {
     "name": "stdout",
     "output_type": "stream",
     "text": [
      "Nombre           6\n",
      "Sexo            37\n",
      "Estado_Civil     4\n",
      "Edad             0\n",
      "Experiencia      4\n",
      "Salario          6\n",
      "Gerencia        21\n",
      "Departamento    12\n",
      "dtype: int64\n"
     ]
    }
   ],
   "source": [
    "# rellenamos los valores faltantes de la edad con la media\n",
    "df['Edad'].fillna(df['Edad'].mean(), inplace=True)\n",
    "print(df.isnull().sum())"
   ]
  },
  {
   "cell_type": "markdown",
   "metadata": {},
   "source": [
    "### 1.7 Rellenar los datos faltantes con un modelo de regresión lineal"
   ]
  },
  {
   "cell_type": "code",
   "execution_count": 52,
   "metadata": {},
   "outputs": [],
   "source": [
    "# cargamos las librerías\n",
    "import pandas as pd\n",
    "from sklearn.linear_model import LinearRegression"
   ]
  },
  {
   "cell_type": "code",
   "execution_count": 53,
   "metadata": {},
   "outputs": [],
   "source": [
    "# cargamos el dataset\n",
    "df = pd.read_csv('empleados_1_7.csv', delimiter=';')"
   ]
  },
  {
   "cell_type": "code",
   "execution_count": 54,
   "metadata": {},
   "outputs": [
    {
     "name": "stdout",
     "output_type": "stream",
     "text": [
      "    Edad  Experiencia  Salario\n",
      "0   22.0            3     2423\n",
      "1   26.0            5     2639\n",
      "2   35.0           10     3122\n",
      "3   35.0           13     3431\n",
      "4   54.0           18     3962\n",
      "5   27.0            4     2564\n",
      "6   24.0            6     2709\n",
      "7   58.0           24     4532\n",
      "8   20.0            1     1977\n",
      "9   39.0            8     2953\n",
      "10  24.0            6     2709\n",
      "11  55.0           12     3306\n",
      "12  22.0            4     2518\n",
      "13   NaN           10     3194\n",
      "14  31.0           11     3267\n",
      "15   NaN           15     3635\n",
      "16  34.0           11     3257\n",
      "17  23.0            5     2695\n",
      "18   NaN           24     4529\n",
      "19   NaN           18     3907\n"
     ]
    }
   ],
   "source": [
    "# imprimimos las primeras 20 filas\n",
    "print(df.head(20))"
   ]
  },
  {
   "cell_type": "code",
   "execution_count": 55,
   "metadata": {},
   "outputs": [
    {
     "name": "stdout",
     "output_type": "stream",
     "text": [
      "Edad           46\n",
      "Experiencia     0\n",
      "Salario         0\n",
      "dtype: int64\n"
     ]
    }
   ],
   "source": [
    "# revisamos los valores nulos por columna  \n",
    "print(df.isnull().sum())"
   ]
  },
  {
   "cell_type": "code",
   "execution_count": 56,
   "metadata": {},
   "outputs": [],
   "source": [
    "# separamos los valores nulos del dataset y creamos una nueva variable\n",
    "datos_test = df[df['Edad'].isnull()==True]"
   ]
  },
  {
   "cell_type": "code",
   "execution_count": 57,
   "metadata": {},
   "outputs": [
    {
     "name": "stdout",
     "output_type": "stream",
     "text": [
      "    Edad  Experiencia  Salario\n",
      "13   NaN           10     3194\n",
      "15   NaN           15     3635\n",
      "18   NaN           24     4529\n",
      "19   NaN           18     3907\n",
      "20   NaN            5     2656\n"
     ]
    }
   ],
   "source": [
    "print(datos_test.head(5))"
   ]
  },
  {
   "cell_type": "code",
   "execution_count": 58,
   "metadata": {},
   "outputs": [
    {
     "name": "stdout",
     "output_type": "stream",
     "text": [
      "   Edad  Experiencia  Salario\n",
      "0  22.0            3     2423\n",
      "1  26.0            5     2639\n",
      "2  35.0           10     3122\n",
      "3  35.0           13     3431\n",
      "4  54.0           18     3962\n"
     ]
    }
   ],
   "source": [
    "# creamos una variable con los valores no nulos de la edad\n",
    "datos_entrenamiento = df[df['Edad'].isnull()==False]\n",
    "print(datos_entrenamiento.head(5))"
   ]
  },
  {
   "cell_type": "code",
   "execution_count": 59,
   "metadata": {},
   "outputs": [],
   "source": [
    "# creamos los datasets de entrenamiento\n",
    "y_entrenamiento = datos_entrenamiento['Edad']\n",
    "# considera las otras columnas menos la edad\n",
    "x_entrenamiento = datos_entrenamiento.drop(['Edad'], axis=1)"
   ]
  },
  {
   "cell_type": "code",
   "execution_count": 60,
   "metadata": {},
   "outputs": [
    {
     "data": {
      "text/html": [
       "<style>#sk-container-id-2 {color: black;background-color: white;}#sk-container-id-2 pre{padding: 0;}#sk-container-id-2 div.sk-toggleable {background-color: white;}#sk-container-id-2 label.sk-toggleable__label {cursor: pointer;display: block;width: 100%;margin-bottom: 0;padding: 0.3em;box-sizing: border-box;text-align: center;}#sk-container-id-2 label.sk-toggleable__label-arrow:before {content: \"▸\";float: left;margin-right: 0.25em;color: #696969;}#sk-container-id-2 label.sk-toggleable__label-arrow:hover:before {color: black;}#sk-container-id-2 div.sk-estimator:hover label.sk-toggleable__label-arrow:before {color: black;}#sk-container-id-2 div.sk-toggleable__content {max-height: 0;max-width: 0;overflow: hidden;text-align: left;background-color: #f0f8ff;}#sk-container-id-2 div.sk-toggleable__content pre {margin: 0.2em;color: black;border-radius: 0.25em;background-color: #f0f8ff;}#sk-container-id-2 input.sk-toggleable__control:checked~div.sk-toggleable__content {max-height: 200px;max-width: 100%;overflow: auto;}#sk-container-id-2 input.sk-toggleable__control:checked~label.sk-toggleable__label-arrow:before {content: \"▾\";}#sk-container-id-2 div.sk-estimator input.sk-toggleable__control:checked~label.sk-toggleable__label {background-color: #d4ebff;}#sk-container-id-2 div.sk-label input.sk-toggleable__control:checked~label.sk-toggleable__label {background-color: #d4ebff;}#sk-container-id-2 input.sk-hidden--visually {border: 0;clip: rect(1px 1px 1px 1px);clip: rect(1px, 1px, 1px, 1px);height: 1px;margin: -1px;overflow: hidden;padding: 0;position: absolute;width: 1px;}#sk-container-id-2 div.sk-estimator {font-family: monospace;background-color: #f0f8ff;border: 1px dotted black;border-radius: 0.25em;box-sizing: border-box;margin-bottom: 0.5em;}#sk-container-id-2 div.sk-estimator:hover {background-color: #d4ebff;}#sk-container-id-2 div.sk-parallel-item::after {content: \"\";width: 100%;border-bottom: 1px solid gray;flex-grow: 1;}#sk-container-id-2 div.sk-label:hover label.sk-toggleable__label {background-color: #d4ebff;}#sk-container-id-2 div.sk-serial::before {content: \"\";position: absolute;border-left: 1px solid gray;box-sizing: border-box;top: 0;bottom: 0;left: 50%;z-index: 0;}#sk-container-id-2 div.sk-serial {display: flex;flex-direction: column;align-items: center;background-color: white;padding-right: 0.2em;padding-left: 0.2em;position: relative;}#sk-container-id-2 div.sk-item {position: relative;z-index: 1;}#sk-container-id-2 div.sk-parallel {display: flex;align-items: stretch;justify-content: center;background-color: white;position: relative;}#sk-container-id-2 div.sk-item::before, #sk-container-id-2 div.sk-parallel-item::before {content: \"\";position: absolute;border-left: 1px solid gray;box-sizing: border-box;top: 0;bottom: 0;left: 50%;z-index: -1;}#sk-container-id-2 div.sk-parallel-item {display: flex;flex-direction: column;z-index: 1;position: relative;background-color: white;}#sk-container-id-2 div.sk-parallel-item:first-child::after {align-self: flex-end;width: 50%;}#sk-container-id-2 div.sk-parallel-item:last-child::after {align-self: flex-start;width: 50%;}#sk-container-id-2 div.sk-parallel-item:only-child::after {width: 0;}#sk-container-id-2 div.sk-dashed-wrapped {border: 1px dashed gray;margin: 0 0.4em 0.5em 0.4em;box-sizing: border-box;padding-bottom: 0.4em;background-color: white;}#sk-container-id-2 div.sk-label label {font-family: monospace;font-weight: bold;display: inline-block;line-height: 1.2em;}#sk-container-id-2 div.sk-label-container {text-align: center;}#sk-container-id-2 div.sk-container {/* jupyter's `normalize.less` sets `[hidden] { display: none; }` but bootstrap.min.css set `[hidden] { display: none !important; }` so we also need the `!important` here to be able to override the default hidden behavior on the sphinx rendered scikit-learn.org. See: https://github.com/scikit-learn/scikit-learn/issues/21755 */display: inline-block !important;position: relative;}#sk-container-id-2 div.sk-text-repr-fallback {display: none;}</style><div id=\"sk-container-id-2\" class=\"sk-top-container\"><div class=\"sk-text-repr-fallback\"><pre>LinearRegression()</pre><b>In a Jupyter environment, please rerun this cell to show the HTML representation or trust the notebook. <br />On GitHub, the HTML representation is unable to render, please try loading this page with nbviewer.org.</b></div><div class=\"sk-container\" hidden><div class=\"sk-item\"><div class=\"sk-estimator sk-toggleable\"><input class=\"sk-toggleable__control sk-hidden--visually\" id=\"sk-estimator-id-2\" type=\"checkbox\" checked><label for=\"sk-estimator-id-2\" class=\"sk-toggleable__label sk-toggleable__label-arrow\">LinearRegression</label><div class=\"sk-toggleable__content\"><pre>LinearRegression()</pre></div></div></div></div></div>"
      ],
      "text/plain": [
       "LinearRegression()"
      ]
     },
     "execution_count": 60,
     "metadata": {},
     "output_type": "execute_result"
    }
   ],
   "source": [
    "# construimos el modelo de regresión lineal\n",
    "regresion_lineal = LinearRegression()\n",
    "regresion_lineal.fit(x_entrenamiento, y_entrenamiento)"
   ]
  },
  {
   "cell_type": "code",
   "execution_count": 61,
   "metadata": {},
   "outputs": [],
   "source": [
    "# eliminamos de los datos de test la columna de la edad\n",
    "datos_test = datos_test.drop(['Edad'], axis=1)"
   ]
  },
  {
   "cell_type": "code",
   "execution_count": 62,
   "metadata": {},
   "outputs": [
    {
     "name": "stdout",
     "output_type": "stream",
     "text": [
      "[38.75882405 45.11533205 57.24087808 48.97973939 31.74032335 31.87681669\n",
      " 32.77139668 36.94973869 38.30839603 44.97201404 58.46986675 45.25865006\n",
      " 64.70353075 25.2342213  26.77031997 57.35007275 61.70585611 24.10132659\n",
      " 35.54330869 33.21500003 58.74967809 56.37359676 38.21967536 53.08301007\n",
      " 65.26315343 39.53056003 42.39801738 29.28234602 47.90089339 68.25345479\n",
      " 37.16812803 64.38222278 26.6815993  40.15160472 28.10850331 47.84629606\n",
      " 65.76135412 46.89029407 57.15215741 43.57240871 57.34324809 36.00056137\n",
      " 26.40861263 46.6992034  72.00866745 57.11120941]\n"
     ]
    }
   ],
   "source": [
    "prediccciones = regresion_lineal.predict(datos_test)\n",
    "print(prediccciones)"
   ]
  },
  {
   "cell_type": "code",
   "execution_count": 63,
   "metadata": {},
   "outputs": [],
   "source": [
    "datos_test['Edad'] = prediccciones"
   ]
  },
  {
   "cell_type": "code",
   "execution_count": 64,
   "metadata": {},
   "outputs": [
    {
     "name": "stdout",
     "output_type": "stream",
     "text": [
      "     Experiencia  Salario       Edad\n",
      "13            10     3194  38.758824\n",
      "15            15     3635  45.115332\n",
      "18            24     4529  57.240878\n",
      "19            18     3907  48.979739\n",
      "20             5     2656  31.740323\n",
      "25             5     2676  31.876817\n",
      "29             6     2709  32.771397\n",
      "32             9     3027  36.949739\n",
      "33            10     3128  38.308396\n",
      "34            15     3614  44.972014\n",
      "35            25     4611  58.469867\n",
      "39            15     3656  45.258650\n",
      "47            30     5034  64.703531\n",
      "56             1     2095  25.234221\n",
      "57             2     2222  26.770320\n",
      "61            24     4545  57.350073\n",
      "65            27     4889  61.705856\n",
      "70             1     1929  24.101327\n",
      "75             8     2919  35.543309\n",
      "81             6     2774  33.215000\n",
      "96            25     4652  58.749678\n",
      "98            23     4500  56.373597\n",
      "109           10     3115  38.219675\n",
      "117           21     4214  53.083010\n",
      "120           30     5116  65.263153\n",
      "126           11     3209  39.530560\n",
      "128           13     3433  42.398017\n",
      "132            3     2492  29.282346\n",
      "134           17     3847  47.900893\n",
      "135           32     5358  68.253455\n",
      "136            9     3059  37.168128\n",
      "137           29     5085  64.382223\n",
      "140            2     2209  26.681599\n",
      "149           11     3300  40.151605\n",
      "151            3     2320  28.108503\n",
      "154           17     3839  47.846296\n",
      "156           30     5189  65.761354\n",
      "157           16     3797  46.890294\n",
      "158           24     4516  57.152157\n",
      "165           14     3507  43.572409\n",
      "171           24     4544  57.343248\n",
      "176            8     2986  36.000561\n",
      "178            2     2169  26.408613\n",
      "179           16     3769  46.699203\n",
      "181           35     5614  72.008667\n",
      "185           24     4510  57.111209\n"
     ]
    }
   ],
   "source": [
    "print(datos_test)"
   ]
  }
 ],
 "metadata": {
  "kernelspec": {
   "display_name": "taller-tic",
   "language": "python",
   "name": "python3"
  },
  "language_info": {
   "codemirror_mode": {
    "name": "ipython",
    "version": 3
   },
   "file_extension": ".py",
   "mimetype": "text/x-python",
   "name": "python",
   "nbconvert_exporter": "python",
   "pygments_lexer": "ipython3",
   "version": "3.11.5"
  }
 },
 "nbformat": 4,
 "nbformat_minor": 2
}
