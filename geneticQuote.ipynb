{
 "cells": [
  {
   "cell_type": "code",
   "execution_count": 5,
   "metadata": {},
   "outputs": [],
   "source": [
    "# mathe adventures with python \n",
    "# chapter 12 \n",
    "# page 246\n",
    "import random\n",
    "target = \"I never go back on my word, because that is my Ninja way.\"\n",
    "characters = \" abcdefghijklmnopqrstuvwxyzABCDEFGHIJKLMNOPQRSTUVWXYZ.',?!\"\n",
    "\n",
    "def makeList():\n",
    "    '''Devuelve una lista de caracteres del mismo largo que la \n",
    "    variable target'''\n",
    "    charList = [] # lista vacía para agregar los caracteres aleatorios\n",
    "    for i in range(len(target)):\n",
    "        charList.append(random.choice(characters))\n",
    "    return charList"
   ]
  },
  {
   "cell_type": "code",
   "execution_count": 32,
   "metadata": {},
   "outputs": [
    {
     "name": "stdout",
     "output_type": "stream",
     "text": [
      "57\n",
      "['t', 'n', 'G', 'X', 'C', 'd', 'k', 'W', '!', 'X', 'L', 'k', 'O', 'D', 'N', 'K', 'B', 'a', 'V', 'v', 'z', 'N', 'w', 'e', 'L', 'J', 's', 'X', 'p', 'm', 'U', 'E', 'F', 'g', 'n', 'G', 'j', 'X', 'H', 'C', 'O', 'N', 'r', 'Y', 'M', 'o', 's', 'D', 'l', 'J', 'M', 'e', 'C', 'Y', \"'\", \"'\", 'x']\n",
      "57\n"
     ]
    }
   ],
   "source": [
    "# probamos que la función makeList funciona\n",
    "print(len(target))\n",
    "newList = makeList()\n",
    "print(newList)\n",
    "print(len(newList))\n"
   ]
  },
  {
   "cell_type": "code",
   "execution_count": 8,
   "metadata": {},
   "outputs": [
    {
     "data": {
      "text/plain": [
       "True"
      ]
     },
     "execution_count": 8,
     "metadata": {},
     "output_type": "execute_result"
    }
   ],
   "source": [
    "len(target) == len(newList)"
   ]
  },
  {
   "cell_type": "code",
   "execution_count": 15,
   "metadata": {},
   "outputs": [
    {
     "name": "stdout",
     "output_type": "stream",
     "text": [
      "sbMNuo!XYka?aEHRtxWyjGuruaCqvVTviUk.dpcvuJkffqc!, mggNTRt\n"
     ]
    }
   ],
   "source": [
    "# podemos unir todos los caracteres de la lista con el método join \n",
    "print(''.join(newList))"
   ]
  },
  {
   "cell_type": "code",
   "execution_count": 12,
   "metadata": {},
   "outputs": [],
   "source": [
    "# score function\n",
    "def score(myList):\n",
    "    '''Retorna un entero: el número de coincidencias con la variable target'''\n",
    "    matches = 0\n",
    "    for i in range(len(target)):\n",
    "        if myList[i] == target[i]:\n",
    "            matches += 1\n",
    "    return matches"
   ]
  },
  {
   "cell_type": "code",
   "execution_count": 99,
   "metadata": {},
   "outputs": [
    {
     "name": "stdout",
     "output_type": "stream",
     "text": [
      "El nº de coincidencias es: 1\n"
     ]
    }
   ],
   "source": [
    "# probamos la función\n",
    "newList = makeList()\n",
    "print(f\"El nº de coincidencias es: {score(newList)}\")"
   ]
  }
 ],
 "metadata": {
  "kernelspec": {
   "display_name": "Python 3.10.5 64-bit",
   "language": "python",
   "name": "python3"
  },
  "language_info": {
   "codemirror_mode": {
    "name": "ipython",
    "version": 3
   },
   "file_extension": ".py",
   "mimetype": "text/x-python",
   "name": "python",
   "nbconvert_exporter": "python",
   "pygments_lexer": "ipython3",
   "version": "3.10.5"
  },
  "orig_nbformat": 4,
  "vscode": {
   "interpreter": {
    "hash": "64e303a6533d6de08a0e1c9b11a3dae5bab982de25b42baff70d4f4572fd35bb"
   }
  }
 },
 "nbformat": 4,
 "nbformat_minor": 2
}
