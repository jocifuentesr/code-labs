{
 "cells": [
  {
   "cell_type": "markdown",
   "metadata": {},
   "source": [
    "# Análisis de Aplicaciones Móviles para Maximizar la Audiencia y los Ingresos\n",
    "\n",
    "*Introducción:*\n",
    "\n",
    "Este proyecto se centra en el análisis de datos para una empresa que desarrolla aplicaciones móviles gratuitas para Android e iOS. El principal motor de ingresos de la empresa son los anuncios dentro de las aplicaciones, y la cantidad de usuarios que utilizan estas aplicaciones tiene un impacto directo en sus ingresos. El objetivo fundamental de este proyecto es comprender qué tipos de aplicaciones tienen el potencial de atraer a una mayor audiencia, lo que, a su vez, aumentaría la exposición a los anuncios y, por lo tanto, los ingresos. A través del análisis de datos, buscaremos identificar patrones y tendencias que ayuden a los desarrolladores a tomar decisiones informadas sobre el tipo de aplicaciones que deben crear para maximizar su éxito en el mercado de aplicaciones móviles."
   ]
  },
  {
   "cell_type": "code",
   "execution_count": 1,
   "metadata": {},
   "outputs": [],
   "source": [
    "from csv import reader\n",
    "\n",
    "### The Google Play data set ###\n",
    "opened_file = open('googleplaystore.csv')\n",
    "read_file = reader(opened_file)\n",
    "android = list(read_file)\n",
    "android_header = android[0]\n",
    "android = android[1:]\n",
    "\n",
    "### The App Store data set ###\n",
    "opened_file = open('AppleStore.csv')\n",
    "read_file = reader(opened_file)\n",
    "ios = list(read_file)\n",
    "ios_header = ios[0]\n",
    "ios = ios[1:]"
   ]
  },
  {
   "cell_type": "code",
   "execution_count": 2,
   "metadata": {},
   "outputs": [],
   "source": [
    "def explore_data(dataset, start, end, rows_and_columns=False):\n",
    "    dataset_slice = dataset[start:end]    \n",
    "    for row in dataset_slice:\n",
    "        print(row)\n",
    "        print('\\n') # adds a new (empty) line after each row\n",
    "\n",
    "    if rows_and_columns:\n",
    "        print('Number of rows:', len(dataset))\n",
    "        print('Number of columns:', len(dataset[0]))"
   ]
  },
  {
   "cell_type": "code",
   "execution_count": 3,
   "metadata": {},
   "outputs": [
    {
     "name": "stdout",
     "output_type": "stream",
     "text": [
      "['App', 'Category', 'Rating', 'Reviews', 'Size', 'Installs', 'Type', 'Price', 'Content Rating', 'Genres', 'Last Updated', 'Current Ver', 'Android Ver']\n",
      "\n",
      "\n",
      "['Paper flowers instructions', 'ART_AND_DESIGN', '4.4', '167', '5.6M', '50,000+', 'Free', '0', 'Everyone', 'Art & Design', 'March 26, 2017', '1.0', '2.3 and up']\n",
      "\n",
      "\n",
      "['Smoke Effect Photo Maker - Smoke Editor', 'ART_AND_DESIGN', '3.8', '178', '19M', '50,000+', 'Free', '0', 'Everyone', 'Art & Design', 'April 26, 2018', '1.1', '4.0.3 and up']\n",
      "\n",
      "\n",
      "['Infinite Painter', 'ART_AND_DESIGN', '4.1', '36815', '29M', '1,000,000+', 'Free', '0', 'Everyone', 'Art & Design', 'June 14, 2018', '6.1.61.1', '4.2 and up']\n",
      "\n",
      "\n"
     ]
    }
   ],
   "source": [
    "print(android_header)\n",
    "print('\\n')\n",
    "explore_data(android, 5, 8)"
   ]
  },
  {
   "cell_type": "code",
   "execution_count": 4,
   "metadata": {},
   "outputs": [
    {
     "name": "stdout",
     "output_type": "stream",
     "text": [
      "['id', 'track_name', 'size_bytes', 'currency', 'price', 'rating_count_tot', 'rating_count_ver', 'user_rating', 'user_rating_ver', 'ver', 'cont_rating', 'prime_genre', 'sup_devices.num', 'ipadSc_urls.num', 'lang.num', 'vpp_lic']\n",
      "\n",
      "\n",
      "['359917414', 'Solitaire', '101943296', 'USD', '0.0', '679055', '9673', '4.5', '4.5', '4.11.2', '4+', 'Games', '38', '4', '11', '1']\n",
      "\n",
      "\n",
      "['469369175', 'CSR Racing', '524803072', 'USD', '0.0', '677247', '2029', '4.5', '4.5', '4.0.1', '4+', 'Games', '37', '5', '10', '1']\n",
      "\n",
      "\n",
      "['924373886', 'Crossy Road - Endless Arcade Hopper', '165471232', 'USD', '0.0', '669079', '1087', '4.5', '4.5', '1.5.4', '9+', 'Games', '38', '5', '13', '1']\n",
      "\n",
      "\n"
     ]
    }
   ],
   "source": [
    "print(ios_header)\n",
    "print('\\n')\n",
    "explore_data(ios, 12, 15)"
   ]
  },
  {
   "cell_type": "code",
   "execution_count": 5,
   "metadata": {},
   "outputs": [
    {
     "name": "stdout",
     "output_type": "stream",
     "text": [
      "['App', 'Category', 'Rating', 'Reviews', 'Size', 'Installs', 'Type', 'Price', 'Content Rating', 'Genres', 'Last Updated', 'Current Ver', 'Android Ver']\n",
      "\n",
      "\n",
      "['Life Made WI-Fi Touchscreen Photo Frame', '1.9', '19', '3.0M', '1,000+', 'Free', '0', 'Everyone', '', 'February 11, 2018', '1.0.19', '4.0 and up']\n",
      "13\n",
      "12\n"
     ]
    }
   ],
   "source": [
    "print(android_header)\n",
    "print('\\n')\n",
    "print(android[10472])\n",
    "print(len(android_header))\n",
    "print(len(android[10472]))\n"
   ]
  },
  {
   "cell_type": "markdown",
   "metadata": {},
   "source": [
    "La columna \"Category\" está ausente, lo que afecta a las columnas siguientes, y algunos valores parecen desplazados."
   ]
  },
  {
   "cell_type": "code",
   "execution_count": 6,
   "metadata": {},
   "outputs": [],
   "source": [
    "del android[10472]"
   ]
  },
  {
   "cell_type": "code",
   "execution_count": 7,
   "metadata": {},
   "outputs": [
    {
     "name": "stdout",
     "output_type": "stream",
     "text": [
      "10840\n"
     ]
    }
   ],
   "source": [
    "print(len(android))"
   ]
  },
  {
   "cell_type": "code",
   "execution_count": 8,
   "metadata": {},
   "outputs": [
    {
     "name": "stdout",
     "output_type": "stream",
     "text": [
      "['Instagram', 'SOCIAL', '4.5', '66577313', 'Varies with device', '1,000,000,000+', 'Free', '0', 'Teen', 'Social', 'July 31, 2018', 'Varies with device', 'Varies with device']\n",
      "['Instagram', 'SOCIAL', '4.5', '66577446', 'Varies with device', '1,000,000,000+', 'Free', '0', 'Teen', 'Social', 'July 31, 2018', 'Varies with device', 'Varies with device']\n",
      "['Instagram', 'SOCIAL', '4.5', '66577313', 'Varies with device', '1,000,000,000+', 'Free', '0', 'Teen', 'Social', 'July 31, 2018', 'Varies with device', 'Varies with device']\n",
      "['Instagram', 'SOCIAL', '4.5', '66509917', 'Varies with device', '1,000,000,000+', 'Free', '0', 'Teen', 'Social', 'July 31, 2018', 'Varies with device', 'Varies with device']\n"
     ]
    }
   ],
   "source": [
    "# verificar las apps duplicadas de Instagram en android. \n",
    "# Este es un ejemplo. \n",
    "# La aplicación Instagram aparece cuatro veces en la lista de aplicaciones de Android. \n",
    "for app in android:\n",
    "    name = app[0]\n",
    "    if name == 'Instagram':\n",
    "        print(app)"
   ]
  },
  {
   "cell_type": "code",
   "execution_count": 9,
   "metadata": {},
   "outputs": [
    {
     "name": "stdout",
     "output_type": "stream",
     "text": [
      "Number of duplicate apps: 1181\n",
      "\n",
      "\n",
      "Examples of duplicate apps: ['Quick PDF Scanner + OCR FREE', 'Box', 'Google My Business', 'ZOOM Cloud Meetings', 'join.me - Simple Meetings', 'Box', 'Zenefits', 'Google Ads', 'Google My Business', 'Slack', 'FreshBooks Classic', 'Insightly CRM', 'QuickBooks Accounting: Invoicing & Expenses', 'HipChat - Chat Built for Teams', 'Xero Accounting Software']\n"
     ]
    }
   ],
   "source": [
    "# código para concontrar aplicaciones duplicadas en android\n",
    "duplicate_apps = []\n",
    "unique_apps = []\n",
    "\n",
    "for app in android:\n",
    "    name = app[0]\n",
    "    if name in unique_apps:\n",
    "        duplicate_apps.append(name)\n",
    "    else:\n",
    "        unique_apps.append(name)\n",
    "\n",
    "# muestra la salidad del código por pantalla\n",
    "print(f\"Number of duplicate apps: {len(duplicate_apps)}\")\n",
    "print('\\n')\n",
    "print(f\"Examples of duplicate apps: {duplicate_apps[:15]}\")"
   ]
  },
  {
   "cell_type": "markdown",
   "metadata": {},
   "source": [
    "Si examinas las filas que imprimimos dos celdas arriba para la aplicación Instagram, la diferencia principal ocurre en la cuarta posición de cada fila, que corresponde al número de reseñas. Los números diferentes indican que los datos se recopilaron en momentos diferentes. Podemos utilizar esto para establecer un criterio para conservar las filas. No eliminaremos las filas al azar, sino que conservaremos las filas que tengan el mayor número de reseñas porque cuanto mayor sea el número de reseñas, más confiables serán las calificaciones.\n",
    "\n",
    "Para hacerlo, haremos lo siguiente:\n",
    "\n",
    "Crearemos un diccionario donde cada clave sea el nombre único de una aplicación y el valor sea el número más alto de reseñas de esa aplicación.\n",
    "\n",
    "Utilizaremos el diccionario para crear un nuevo conjunto de datos que tendrá solo una entrada por aplicación (y seleccionaremos solo las aplicaciones con el mayor número de reseñas)."
   ]
  },
  {
   "cell_type": "code",
   "execution_count": 10,
   "metadata": {},
   "outputs": [
    {
     "name": "stdout",
     "output_type": "stream",
     "text": [
      "Longitud del diccionario reviews_max: 9659\n"
     ]
    }
   ],
   "source": [
    "# Crear un diccionario donde cada clave es el nombre único de una aplicación \n",
    "# y el valor es el mayor número de reseñas de esa aplicación.\n",
    "reviews_max = {}\n",
    "\n",
    "# Recorrer el conjunto de datos de Google Play (sin incluir la fila de encabezado).\n",
    "for row in android:\n",
    "    name = row[0]  # Obtener el nombre de la aplicación\n",
    "    n_reviews = float(row[3])  # Obtener el número de reseñas como un valor de punto flotante\n",
    "    \n",
    "    # Verificar si el nombre ya existe como una clave en el diccionario y si el valor actual es menor que n_reviews.\n",
    "    if name in reviews_max and reviews_max[name] < n_reviews:\n",
    "        reviews_max[name] = n_reviews  # Actualizar el número de reseñas en el diccionario\n",
    "    elif name not in reviews_max:\n",
    "        reviews_max[name] = n_reviews  # Crear una nueva entrada en el diccionario si el nombre no existe\n",
    "\n",
    "# Verificar la longitud del diccionario (debería ser 9,659 entradas).\n",
    "print(\"Longitud del diccionario reviews_max:\", len(reviews_max))\n"
   ]
  },
  {
   "cell_type": "code",
   "execution_count": 11,
   "metadata": {},
   "outputs": [
    {
     "name": "stdout",
     "output_type": "stream",
     "text": [
      "Longitud de android_clean: 9659\n"
     ]
    }
   ],
   "source": [
    "# Crear dos listas vacías: android_clean y already_added\n",
    "android_clean = []\n",
    "already_added = []\n",
    "\n",
    "# Recorrer el conjunto de datos de Google Play (sin incluir la fila de encabezado)\n",
    "for row in android:\n",
    "    name = row[0]  # Obtener el nombre de la aplicación\n",
    "    n_reviews = float(row[3])  # Obtener el número de reseñas como un valor de punto flotante\n",
    "    \n",
    "    # Verificar si n_reviews es igual al número máximo de reseñas de la aplicación (en el diccionario reviews_max)\n",
    "    # y si el nombre de la aplicación no está en already_added\n",
    "    if n_reviews == reviews_max[name] and name not in already_added:\n",
    "        android_clean.append(row)  # Agregar la fila completa a android_clean\n",
    "        already_added.append(name)  # Agregar el nombre de la aplicación a already_added\n",
    "\n",
    "# Verificar la longitud de android_clean (debería ser 9,659 entradas)\n",
    "print(\"Longitud de android_clean:\", len(android_clean))"
   ]
  },
  {
   "cell_type": "code",
   "execution_count": 12,
   "metadata": {},
   "outputs": [],
   "source": [
    "# solución propuesta en el ejemplo\n",
    "android_clean = []\n",
    "already_added = []\n",
    "\n",
    "for app in android:\n",
    "    name = app[0]\n",
    "    n_reviews = float(app[3])\n",
    "    \n",
    "    if (reviews_max[name] == n_reviews) and (name not in already_added):\n",
    "        android_clean.append(app)\n",
    "        already_added.append(name) # make sure this is inside the if block"
   ]
  },
  {
   "cell_type": "code",
   "execution_count": 13,
   "metadata": {},
   "outputs": [
    {
     "name": "stdout",
     "output_type": "stream",
     "text": [
      "['Photo Editor & Candy Camera & Grid & ScrapBook', 'ART_AND_DESIGN', '4.1', '159', '19M', '10,000+', 'Free', '0', 'Everyone', 'Art & Design', 'January 7, 2018', '1.0.0', '4.0.3 and up']\n",
      "\n",
      "\n",
      "['U Launcher Lite – FREE Live Cool Themes, Hide Apps', 'ART_AND_DESIGN', '4.7', '87510', '8.7M', '5,000,000+', 'Free', '0', 'Everyone', 'Art & Design', 'August 1, 2018', '1.2.4', '4.0.3 and up']\n",
      "\n",
      "\n",
      "['Sketch - Draw & Paint', 'ART_AND_DESIGN', '4.5', '215644', '25M', '50,000,000+', 'Free', '0', 'Teen', 'Art & Design', 'June 8, 2018', 'Varies with device', '4.2 and up']\n",
      "\n",
      "\n",
      "Number of rows: 9659\n",
      "Number of columns: 13\n"
     ]
    }
   ],
   "source": [
    "explore_data(android_clean, 0, 3, True)"
   ]
  },
  {
   "cell_type": "code",
   "execution_count": 14,
   "metadata": {},
   "outputs": [
    {
     "name": "stdout",
     "output_type": "stream",
     "text": [
      "True\n",
      "False\n",
      "False\n",
      "False\n"
     ]
    }
   ],
   "source": [
    "def is_english(str_a):\n",
    "    for character in str_a:\n",
    "        if ord(character) > 127:\n",
    "            return False\n",
    "    return True\n",
    "print(is_english('Instagram'))  # Debería devolver True\n",
    "print(is_english('爱奇艺PPS -《欢乐颂2》电视剧热播'))  # Debería devolver False\n",
    "print(is_english('Docs To Go™ Free Office Suite'))  # Debería devolver False\n",
    "print(is_english('Instachat 😜'))  # Debería devolver False"
   ]
  },
  {
   "cell_type": "code",
   "execution_count": 15,
   "metadata": {},
   "outputs": [],
   "source": [
    "#función corregida\n",
    "def is_english2(str_a):\n",
    "    cont = 0\n",
    "    for character in str_a:\n",
    "        if ord(character) > 127:\n",
    "            cont += 1\n",
    "            if cont == 3:\n",
    "                return False\n",
    "    return True"
   ]
  },
  {
   "cell_type": "code",
   "execution_count": 16,
   "metadata": {},
   "outputs": [
    {
     "name": "stdout",
     "output_type": "stream",
     "text": [
      "True\n",
      "True\n",
      "False\n"
     ]
    }
   ],
   "source": [
    "print(is_english2('Docs To Go™ Free Office Suite')) \n",
    "print(is_english2('Instachat 😜')) \n",
    "print(is_english2('爱奇艺PPS -《欢乐颂2》电视剧热播'))"
   ]
  },
  {
   "cell_type": "code",
   "execution_count": 17,
   "metadata": {},
   "outputs": [
    {
     "name": "stdout",
     "output_type": "stream",
     "text": [
      "True\n",
      "True\n"
     ]
    }
   ],
   "source": [
    "# función corregida sugerida por dataquest\n",
    "def is_english(string):\n",
    "    non_ascii = 0\n",
    "    \n",
    "    for character in string:\n",
    "        if ord(character) > 127:\n",
    "            non_ascii += 1\n",
    "    \n",
    "    if non_ascii > 3:\n",
    "        return False\n",
    "    else:\n",
    "        return True\n",
    "\n",
    "print(is_english('Docs To Go™ Free Office Suite'))\n",
    "print(is_english('Instachat 😜'))"
   ]
  },
  {
   "cell_type": "markdown",
   "metadata": {},
   "source": [
    "### Separar las apps gratis de las pagadas"
   ]
  },
  {
   "cell_type": "code",
   "execution_count": 23,
   "metadata": {},
   "outputs": [
    {
     "name": "stdout",
     "output_type": "stream",
     "text": [
      "['App', 'Category', 'Rating', 'Reviews', 'Size', 'Installs', 'Type', 'Price', 'Content Rating', 'Genres', 'Last Updated', 'Current Ver', 'Android Ver']\n",
      "7\n"
     ]
    }
   ],
   "source": [
    "print(android_header)\n",
    "print(android_header.index('Price'))"
   ]
  },
  {
   "cell_type": "code",
   "execution_count": 20,
   "metadata": {},
   "outputs": [
    {
     "name": "stdout",
     "output_type": "stream",
     "text": [
      "['id', 'track_name', 'size_bytes', 'currency', 'price', 'rating_count_tot', 'rating_count_ver', 'user_rating', 'user_rating_ver', 'ver', 'cont_rating', 'prime_genre', 'sup_devices.num', 'ipadSc_urls.num', 'lang.num', 'vpp_lic']\n",
      "4\n"
     ]
    }
   ],
   "source": [
    "print(ios_header)\n",
    "print(ios_header.index('price'))"
   ]
  },
  {
   "cell_type": "code",
   "execution_count": 24,
   "metadata": {},
   "outputs": [
    {
     "name": "stdout",
     "output_type": "stream",
     "text": [
      "8848\n",
      "3203\n"
     ]
    }
   ],
   "source": [
    "# separaremos las applicaciones android gratuitas de las pagadas\n",
    "# se usa como referencia las lista final de las aplicaciones en inglés. \n",
    "android_final = []\n",
    "ios_final = []\n",
    "\n",
    "for app in android_english:\n",
    "    price = app[7]\n",
    "    if price == '0':\n",
    "        android_final.append(app)\n",
    "        \n",
    "for app in ios_english:\n",
    "    price = app[4]\n",
    "    if price == '0.0':\n",
    "        ios_final.append(app)\n",
    "        \n",
    "print(len(android_final))\n",
    "print(len(ios_final))\n",
    "\n"
   ]
  },
  {
   "cell_type": "markdown",
   "metadata": {},
   "source": [
    "### Aplicaciones más usadas\n",
    "\n",
    "El objetivo de nuestro análisis es determinar qué tipos de aplicaciones son más propensos a atraer a más usuarios, ya que nuestros ingresos dependen en gran medida de la cantidad de personas que utilizan nuestras aplicaciones.\n",
    "\n",
    "Para minimizar riesgos y costos, nuestra estrategia de validación para una idea de aplicación consta de tres pasos:\n",
    "\n",
    "1. Construir una versión mínima de la aplicación para Android y agregarla a Google Play.\n",
    "2. Si la aplicación tiene una buena respuesta de los usuarios, la desarrollamos aún más.\n",
    "3. Si la aplicación es rentable después de seis meses, también construimos una versión para iOS y la agregamos a la App Store.\n",
    "\n",
    "Dado que nuestro objetivo final es agregar la aplicación en ambas plataformas, necesitamos encontrar perfiles de aplicaciones que tengan éxito en ambos mercados. Por ejemplo, un perfil que podría funcionar bien en ambos mercados podría ser una aplicación de productividad que utilice la gamificación.\n",
    "\n",
    "Para comenzar nuestro análisis, vamos a identificar los géneros más comunes en cada mercado. Para hacerlo, construiremos una tabla de frecuencia para la columna \"prime_genre\" del conjunto de datos de la App Store, y las columnas \"Genres\" y \"Category\" del conjunto de datos de Google Play."
   ]
  },
  {
   "cell_type": "code",
   "execution_count": 25,
   "metadata": {},
   "outputs": [],
   "source": [
    "# Para la App Store\n",
    "def freq_table(dataset, index):\n",
    "    freq_dict = {}\n",
    "    total_apps = len(dataset)\n",
    "    \n",
    "    for row in dataset:\n",
    "        value = row[index]\n",
    "        if value in freq_dict:\n",
    "            freq_dict[value] += 1\n",
    "        else:\n",
    "            freq_dict[value] = 1\n",
    "    \n",
    "    freq_percentages = {}\n",
    "    for key in freq_dict:\n",
    "        percentage = (freq_dict[key] / total_apps) * 100\n",
    "        freq_percentages[key] = percentage\n",
    "    \n",
    "    return freq_percentages\n",
    "\n",
    "# Generar tabla de frecuencia para la columna \"prime_genre\" de la App Store\n",
    "app_store_freq = freq_table(ios, -5)\n",
    "\n",
    "# Para Google Play\n",
    "def freq_table_google(dataset, index):\n",
    "    freq_dict = {}\n",
    "    total_apps = len(dataset)\n",
    "    \n",
    "    for row in dataset:\n",
    "        value = row[index]\n",
    "        if value in freq_dict:\n",
    "            freq_dict[value] += 1\n",
    "        else:\n",
    "            freq_dict[value] = 1\n",
    "    \n",
    "    freq_percentages = {}\n",
    "    for key in freq_dict:\n",
    "        percentage = (freq_dict[key] / total_apps) * 100\n",
    "        freq_percentages[key] = percentage\n",
    "    \n",
    "    return freq_percentages\n",
    "\n",
    "# Generar tabla de frecuencia para la columna \"Genres\" de Google Play\n",
    "google_play_genres_freq = freq_table_google(android, 9)\n",
    "\n",
    "# Generar tabla de frecuencia para la columna \"Category\" de Google Play\n",
    "google_play_category_freq = freq_table_google(android, 1)"
   ]
  }
 ],
 "metadata": {
  "kernelspec": {
   "display_name": "Python 3",
   "language": "python",
   "name": "python3"
  },
  "language_info": {
   "codemirror_mode": {
    "name": "ipython",
    "version": 3
   },
   "file_extension": ".py",
   "mimetype": "text/x-python",
   "name": "python",
   "nbconvert_exporter": "python",
   "pygments_lexer": "ipython3",
   "version": "3.11.6"
  }
 },
 "nbformat": 4,
 "nbformat_minor": 2
}
